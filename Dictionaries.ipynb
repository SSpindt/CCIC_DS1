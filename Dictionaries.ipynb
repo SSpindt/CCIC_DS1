{
 "cells": [
  {
   "cell_type": "code",
   "execution_count": 2,
   "id": "b2008a62",
   "metadata": {},
   "outputs": [],
   "source": [
    "todo = {\"Monday\": [\"Wake up\", \"shower\", \"eat\", \"school\"],\n",
    "       \"Tuesday\": [\"Wake up\", \"shower\", \"eat\", \"LP intro\"],\n",
    "       \"Wednesday\": [\"A\", \"B\", \"C\"]}"
   ]
  },
  {
   "cell_type": "code",
   "execution_count": 3,
   "id": "b165f2bf",
   "metadata": {},
   "outputs": [
    {
     "name": "stdout",
     "output_type": "stream",
     "text": [
      "Write the day of the week you would like to know more about.Monday\n"
     ]
    }
   ],
   "source": [
    "items = input(\"Write the day of the week you would like to know more about.\")"
   ]
  },
  {
   "cell_type": "code",
   "execution_count": 4,
   "id": "abdaee5e",
   "metadata": {},
   "outputs": [
    {
     "name": "stdout",
     "output_type": "stream",
     "text": [
      "['Wake up', 'shower', 'eat', 'school']\n"
     ]
    }
   ],
   "source": [
    "print(todo[items])"
   ]
  },
  {
   "cell_type": "code",
   "execution_count": 6,
   "id": "f2c9aa00",
   "metadata": {},
   "outputs": [],
   "source": [
    "data = {\"Date\": [\"2001-08-01\", \"2001-08-02\"], \"DayName\": [\"Wednesday\", \"Thursday\"]}"
   ]
  },
  {
   "cell_type": "code",
   "execution_count": null,
   "id": "92614886",
   "metadata": {},
   "outputs": [],
   "source": [
    "del data[\"Date\"]"
   ]
  },
  {
   "cell_type": "code",
   "execution_count": 5,
   "id": "f26814b6",
   "metadata": {},
   "outputs": [
    {
     "ename": "NameError",
     "evalue": "name 'data' is not defined",
     "output_type": "error",
     "traceback": [
      "\u001b[1;31m---------------------------------------------------------------------------\u001b[0m",
      "\u001b[1;31mNameError\u001b[0m                                 Traceback (most recent call last)",
      "\u001b[1;32m~\\AppData\\Local\\Temp/ipykernel_5104/4209457398.py\u001b[0m in \u001b[0;36m<module>\u001b[1;34m\u001b[0m\n\u001b[1;32m----> 1\u001b[1;33m \u001b[0mdata\u001b[0m\u001b[1;33m[\u001b[0m\u001b[1;34m\"Date\"\u001b[0m\u001b[1;33m]\u001b[0m \u001b[1;33m=\u001b[0m \u001b[1;33m[\u001b[0m\u001b[1;34m\"2001-08-01\"\u001b[0m\u001b[1;33m,\u001b[0m \u001b[1;34m\"2001-08-02\"\u001b[0m\u001b[1;33m,\u001b[0m \u001b[1;34m\"2001-08-08\"\u001b[0m\u001b[1;33m]\u001b[0m\u001b[1;33m\u001b[0m\u001b[1;33m\u001b[0m\u001b[0m\n\u001b[0m",
      "\u001b[1;31mNameError\u001b[0m: name 'data' is not defined"
     ]
    }
   ],
   "source": []
  },
  {
   "cell_type": "code",
   "execution_count": null,
   "id": "50c6fa21",
   "metadata": {},
   "outputs": [],
   "source": []
  }
 ],
 "metadata": {
  "kernelspec": {
   "display_name": "Python 3 (ipykernel)",
   "language": "python",
   "name": "python3"
  },
  "language_info": {
   "codemirror_mode": {
    "name": "ipython",
    "version": 3
   },
   "file_extension": ".py",
   "mimetype": "text/x-python",
   "name": "python",
   "nbconvert_exporter": "python",
   "pygments_lexer": "ipython3",
   "version": "3.9.7"
  }
 },
 "nbformat": 4,
 "nbformat_minor": 5
}
