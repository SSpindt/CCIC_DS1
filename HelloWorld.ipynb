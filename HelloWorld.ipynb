{
 "cells": [
  {
   "cell_type": "code",
   "execution_count": null,
   "id": "00575cfd",
   "metadata": {},
   "outputs": [],
   "source": [
    "artist1 = \"Post Malone\"\n",
    "print(artist1)"
   ]
  },
  {
   "cell_type": "code",
   "execution_count": null,
   "id": "3ecc185e",
   "metadata": {},
   "outputs": [],
   "source": [
    "artist2 = \"Drake\"\n",
    "print(artist2)"
   ]
  },
  {
   "cell_type": "code",
   "execution_count": null,
   "id": "9443032d",
   "metadata": {},
   "outputs": [],
   "source": [
    "artist3 = artist2\n",
    "artist1 = artist3\n",
    "artist2 = artist1"
   ]
  },
  {
   "cell_type": "code",
   "execution_count": null,
   "id": "aa8b4c12",
   "metadata": {},
   "outputs": [],
   "source": [
    "print(artist1)\n",
    "print(artist2)\n",
    "print(artist3)"
   ]
  },
  {
   "cell_type": "code",
   "execution_count": 5,
   "id": "85ebe88a",
   "metadata": {},
   "outputs": [
    {
     "name": "stdout",
     "output_type": "stream",
     "text": [
      "as\n"
     ]
    }
   ],
   "source": [
    "x = input()"
   ]
  },
  {
   "cell_type": "code",
   "execution_count": null,
   "id": "e3061f0a",
   "metadata": {},
   "outputs": [],
   "source": [
    "a = 10\n",
    "b = 8\n",
    "c = 6\n",
    "a = 7\n",
    "b = c\n",
    "print(a)\n",
    "print(b)\n",
    "print(c)"
   ]
  },
  {
   "cell_type": "code",
   "execution_count": null,
   "id": "015c0c23",
   "metadata": {},
   "outputs": [],
   "source": []
  }
 ],
 "metadata": {
  "kernelspec": {
   "display_name": "Python 3 (ipykernel)",
   "language": "python",
   "name": "python3"
  },
  "language_info": {
   "codemirror_mode": {
    "name": "ipython",
    "version": 3
   },
   "file_extension": ".py",
   "mimetype": "text/x-python",
   "name": "python",
   "nbconvert_exporter": "python",
   "pygments_lexer": "ipython3",
   "version": "3.9.7"
  }
 },
 "nbformat": 4,
 "nbformat_minor": 5
}
