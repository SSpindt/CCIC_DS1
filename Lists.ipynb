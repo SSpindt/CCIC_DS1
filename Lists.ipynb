{
 "cells": [
  {
   "cell_type": "code",
   "execution_count": 1,
   "id": "5f056de9",
   "metadata": {},
   "outputs": [],
   "source": [
    "foods = [\"Ramen\", \"Salmon\", \"Sushi\"]"
   ]
  },
  {
   "cell_type": "code",
   "execution_count": null,
   "id": "36658486",
   "metadata": {},
   "outputs": [],
   "source": [
    "foods[0] = \"Popcorn\"  "
   ]
  },
  {
   "cell_type": "code",
   "execution_count": null,
   "id": "b715df52",
   "metadata": {},
   "outputs": [],
   "source": [
    "foods[len(foods) - 1] = \"Squash\""
   ]
  },
  {
   "cell_type": "code",
   "execution_count": 3,
   "id": "774579af",
   "metadata": {},
   "outputs": [],
   "source": [
    "dataTab = [[\"Student\", \"Height\", \"Weight\", \"Age\"],\n",
    "           [\"Ellie\", 4.6, 60, 10]]"
   ]
  },
  {
   "cell_type": "code",
   "execution_count": 5,
   "id": "b9e13ce8",
   "metadata": {},
   "outputs": [
    {
     "name": "stdout",
     "output_type": "stream",
     "text": [
      "Height\n"
     ]
    }
   ],
   "source": [
    "print(dataTab[0][1])"
   ]
  },
  {
   "cell_type": "code",
   "execution_count": null,
   "id": "20358610",
   "metadata": {},
   "outputs": [],
   "source": []
  }
 ],
 "metadata": {
  "kernelspec": {
   "display_name": "Python 3 (ipykernel)",
   "language": "python",
   "name": "python3"
  },
  "language_info": {
   "codemirror_mode": {
    "name": "ipython",
    "version": 3
   },
   "file_extension": ".py",
   "mimetype": "text/x-python",
   "name": "python",
   "nbconvert_exporter": "python",
   "pygments_lexer": "ipython3",
   "version": "3.9.7"
  }
 },
 "nbformat": 4,
 "nbformat_minor": 5
}
